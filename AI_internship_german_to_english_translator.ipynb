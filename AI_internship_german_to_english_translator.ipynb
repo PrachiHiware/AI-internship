{
  "nbformat": 4,
  "nbformat_minor": 0,
  "metadata": {
    "colab": {
      "name": "AI internship german to english translator.ipynb",
      "provenance": [],
      "collapsed_sections": []
    },
    "kernelspec": {
      "name": "python3",
      "display_name": "Python 3"
    },
    "language_info": {
      "name": "python"
    }
  },
  "cells": [
    {
      "cell_type": "markdown",
      "metadata": {
        "id": "cmcVM3vN7bI1"
      },
      "source": [
        ""
      ]
    },
    {
      "cell_type": "code",
      "metadata": {
        "id": "KVJr5QWA7vsu"
      },
      "source": [
        "import string \n",
        "import re\n",
        "from numpy import array,argmax,random,take\n",
        "import pandas as pd\n",
        "from keras.models import Sequential\n",
        "from keras.layers import Dense,LSTM,Embedding,Bidirectional,RepeatVector,TimeDistributed\n",
        "from keras.preprocessing.text import Tokenizer\n",
        "from keras.callbacks import ModelCheckpoint\n",
        "from keras.preprocessing.sequence import pad_sequences\n",
        "from keras.models import load_model\n",
        "from keras import optimizers\n",
        "import matplotlib.pyplot as plt\n",
        "% matplotlib inline \n",
        "pd.set_option('display.max_colwidth',200)"
      ],
      "execution_count": null,
      "outputs": []
    },
    {
      "cell_type": "code",
      "metadata": {
        "id": "M4-klag7gPSf"
      },
      "source": [
        "#function to read raw text file\n",
        "def read_text(filename):\n",
        "  file = open(filename,mode='rt',encoding ='utf-8')\n",
        "  text=file.read()\n",
        "  file.close()\n",
        "  return text"
      ],
      "execution_count": null,
      "outputs": []
    },
    {
      "cell_type": "code",
      "metadata": {
        "id": "aBb8Q6-EgvnB"
      },
      "source": [
        "def to_lines(text):\n",
        "  sents = text.strip().split('\\n')\n",
        "  sents = [i.split('\\t') for i in sents]\n",
        "  return sents"
      ],
      "execution_count": null,
      "outputs": []
    },
    {
      "cell_type": "code",
      "metadata": {
        "id": "JcrsLrZbb7pM"
      },
      "source": [
        "data = read_text('/content/deu.txt')\n",
        "deu_eng = to_lines(data)\n",
        "deu_eng = array(deu_eng)"
      ],
      "execution_count": null,
      "outputs": []
    },
    {
      "cell_type": "code",
      "metadata": {
        "id": "bniJfF2ygIga"
      },
      "source": [
        "deu_eng = deu_eng[:5000,:]"
      ],
      "execution_count": null,
      "outputs": []
    },
    {
      "cell_type": "code",
      "metadata": {
        "colab": {
          "base_uri": "https://localhost:8080/"
        },
        "id": "t-AVmyopgXhc",
        "outputId": "c6d52286-aacd-4137-98a7-118da9ee3150"
      },
      "source": [
        "deu_eng"
      ],
      "execution_count": null,
      "outputs": [
        {
          "output_type": "execute_result",
          "data": {
            "text/plain": [
              "array([['Go.', 'Geh.',\n",
              "        'CC-BY 2.0 (France) Attribution: tatoeba.org #2877272 (CM) & #8597805 (Roujin)'],\n",
              "       ['Hi.', 'Hallo!',\n",
              "        'CC-BY 2.0 (France) Attribution: tatoeba.org #538123 (CM) & #380701 (cburgmer)'],\n",
              "       ['Hi.', 'Grüß Gott!',\n",
              "        'CC-BY 2.0 (France) Attribution: tatoeba.org #538123 (CM) & #659813 (Esperantostern)'],\n",
              "       ...,\n",
              "       ['Tom was shot.', 'Tom wurde erschossen.',\n",
              "        'CC-BY 2.0 (France) Attribution: tatoeba.org #2239846 (CK) & #1544471 (Esperantostern)'],\n",
              "       ['Tom was sick.', 'Tom war krank.',\n",
              "        'CC-BY 2.0 (France) Attribution: tatoeba.org #2239848 (CK) & #2366315 (Pfirsichbaeumchen)'],\n",
              "       ['Tom was slow.', 'Tom war langsam.',\n",
              "        'CC-BY 2.0 (France) Attribution: tatoeba.org #6196238 (CK) & #7759409 (Neisklar)']],\n",
              "      dtype='<U537')"
            ]
          },
          "metadata": {},
          "execution_count": 11
        }
      ]
    },
    {
      "cell_type": "markdown",
      "metadata": {
        "id": "FxVX_9TJgeyp"
      },
      "source": [
        "Text to Sequence Conversion"
      ]
    },
    {
      "cell_type": "code",
      "metadata": {
        "id": "0ayNm0aQgjeu"
      },
      "source": [
        "eng_1 = []\n",
        "deu_1 = []\n",
        "\n",
        "for  i in deu_eng[:,0]:\n",
        "  eng_1.append(len(i.split()))\n",
        "\n",
        "for  i in deu_eng[:,1]:\n",
        "  deu_1.append(len(i.split()))"
      ],
      "execution_count": null,
      "outputs": []
    },
    {
      "cell_type": "code",
      "metadata": {
        "id": "orl9Jz6WhFh2"
      },
      "source": [
        "length_df = pd.DataFrame({'eng':eng_1,'deu':deu_1})"
      ],
      "execution_count": null,
      "outputs": []
    },
    {
      "cell_type": "code",
      "metadata": {
        "colab": {
          "base_uri": "https://localhost:8080/",
          "height": 281
        },
        "id": "ZUK4zJHEhW2r",
        "outputId": "ea9405bd-dd6c-4e22-898b-ed494bd337ee"
      },
      "source": [
        "length_df.hist(bins = 30)\n",
        "plt.show()"
      ],
      "execution_count": null,
      "outputs": [
        {
          "output_type": "display_data",
          "data": {
            "image/png": "[encoded data removed]",
            "text/plain": [
              "<Figure size 432x288 with 2 Axes>"
            ]
          },
          "metadata": {
            "needs_background": "light"
          }
        }
      ]
    },
    {
      "cell_type": "code",
      "metadata": {
        "id": "_Vuz9Ru8hilS"
      },
      "source": [
        "#function to build tokenizer\n",
        "def tokenization(lines):\n",
        "  tokenizer = Tokenizer()\n",
        "  tokenizer.fit_on_texts(lines)\n",
        "  return tokenizer"
      ],
      "execution_count": null,
      "outputs": []
    },
    {
      "cell_type": "code",
      "metadata": {
        "colab": {
          "base_uri": "https://localhost:8080/"
        },
        "id": "KDozBMQUiGbd",
        "outputId": "5a67d14d-0066-48b6-9f3a-e5bb998c180b"
      },
      "source": [
        "#english tokenizer\n",
        "eng_tokenizer = tokenization(deu_eng[:,0])\n",
        "eng_vocab_size = len(eng_tokenizer.word_index) + 1\n",
        "\n",
        "eng_length = 8\n",
        "print(\"English Vocabulary Size:%d\" % eng_vocab_size)"
      ],
      "execution_count": null,
      "outputs": [
        {
          "output_type": "stream",
          "name": "stdout",
          "text": [
            "English Vocabulary Size:1322\n"
          ]
        }
      ]
    },
    {
      "cell_type": "code",
      "metadata": {
        "colab": {
          "base_uri": "https://localhost:8080/"
        },
        "id": "ANKEITgfirAC",
        "outputId": "179a949c-076a-4ea7-99fa-635ac188ecb5"
      },
      "source": [
        "# prepare  Deutch tokenizer\n",
        "deu_tokenizer = tokenization(deu_eng[:,1])\n",
        "deu_vocab_size = len(deu_tokenizer.word_index) + 1\n",
        "\n",
        "deu_length = 8\n",
        "print(\"Deutch Vocabulary Size:%d\" % deu_vocab_size)"
      ],
      "execution_count": null,
      "outputs": [
        {
          "output_type": "stream",
          "name": "stdout",
          "text": [
            "Deutch Vocabulary Size:2217\n"
          ]
        }
      ]
    },
    {
      "cell_type": "code",
      "metadata": {
        "id": "JB45odTNiZ5P"
      },
      "source": [
        "# encode and pad sequences\n",
        "def encode_sequences(tokenizer,length,lines):\n",
        "\n",
        "  #integer encode sequences\n",
        "  seq = tokenizer.texts_to_sequences(lines)\n",
        "\n",
        "  #pad sequences with 0 values\n",
        "  seq = pad_sequences(seq,maxlen=length,padding='post')\n",
        "  return seq"
      ],
      "execution_count": null,
      "outputs": []
    },
    {
      "cell_type": "markdown",
      "metadata": {
        "id": "Me7xaRRFkNEZ"
      },
      "source": [
        "Model Building"
      ]
    },
    {
      "cell_type": "code",
      "metadata": {
        "id": "XvvVXUGkkLRB"
      },
      "source": [
        "from sklearn.model_selection import train_test_split\n",
        "train , test = train_test_split(deu_eng , test_size = 0.2 ,random_state = 12)"
      ],
      "execution_count": null,
      "outputs": []
    },
    {
      "cell_type": "code",
      "metadata": {
        "id": "lzRWEp2Ylrgl"
      },
      "source": [
        "#preparing training data\n",
        "trainX = encode_sequences(deu_tokenizer , deu_length , test[:,1])\n",
        "trainY = encode_sequences(eng_tokenizer , eng_length , test[:,0])"
      ],
      "execution_count": null,
      "outputs": []
    },
    {
      "cell_type": "code",
      "metadata": {
        "id": "uwcNgczumF8G"
      },
      "source": [
        "#preparing validation data\n",
        "testX = encode_sequences(deu_tokenizer , deu_length , test[:,1])\n",
        "testY = encode_sequences(eng_tokenizer , eng_length , test[:,0])"
      ],
      "execution_count": null,
      "outputs": []
    },
    {
      "cell_type": "code",
      "metadata": {
        "id": "ERdbND5nmYf6"
      },
      "source": [
        "# build NMT model\n",
        "def build_model(in_vocab , out_vocab ,in_timesteps,out_timeunits):\n",
        "  model = Sequential()\n",
        "  model.add(Embedding(in_vocab ,units,input_length = in_timesteps ,mask_zero = True))\n",
        "  model.add(LSTM(units))\n",
        "  model.add(RepeatVector(out_timesteps))\n",
        "  model.add(LSTM(units,return_sequences=True))\n",
        "  model.add(Dense(out_vocab, activation='softmax'))\n",
        "  return model"
      ],
      "execution_count": null,
      "outputs": []
    },
    {
      "cell_type": "code",
      "metadata": {
        "id": "pH9JwPiSoI9A"
      },
      "source": [
        "\n",
        "model = build_model(deu_vocab_size, eng_vocab_size, deu_length, eng_length, 512)\n",
        "rms = optimizers.RMSprop(learning_rate=0.001)\n",
        "model.compile(optimizer=rms, loss='sparse_categorical_crossentropy')"
      ],
      "execution_count": null,
      "outputs": []
    },
    {
      "cell_type": "code",
      "metadata": {
        "colab": {
          "base_uri": "https://localhost:8080/"
        },
        "id": "w5w90k8vwsKa",
        "outputId": "8aaac3ae-0778-433a-d658-a9ef5155bf7b"
      },
      "source": [
        "filename = 'mymodel'\n",
        "checkpoint = ModelCheckpoint(filename,monitor='val_loss',verbose=1,save_best_only=True,mode='min')\n",
        "\n",
        "history = model.fit(trainX, trainY.reshape(trainY.shape[0],trainY.shape[1],1), epochs=30, batch_size=512, validation_split= 0.2 ,callbacks=[checkpoint],verbose=1)\n"
      ],
      "execution_count": null,
      "outputs": [
        {
          "output_type": "stream",
          "name": "stdout",
          "text": [
            "Epoch 1/30\n",
            "2/2 [==============================] - 7s 4s/step - loss: 0.1489 - val_loss: 0.1537\n",
            "\n",
            "Epoch 00001: val_loss improved from inf to 0.15369, saving model to mymodel\n"
          ]
        },
        {
          "output_type": "stream",
          "name": "stderr",
          "text": [
            "WARNING:absl:Found untraced functions such as lstm_cell_28_layer_call_fn, lstm_cell_28_layer_call_and_return_conditional_losses, lstm_cell_29_layer_call_fn, lstm_cell_29_layer_call_and_return_conditional_losses, lstm_cell_28_layer_call_fn while saving (showing 5 of 10). These functions will not be directly callable after loading.\n"
          ]
        },
        {
          "output_type": "stream",
          "name": "stdout",
          "text": [
            "INFO:tensorflow:Assets written to: mymodel/assets\n"
          ]
        },
        {
          "output_type": "stream",
          "name": "stderr",
          "text": [
            "INFO:tensorflow:Assets written to: mymodel/assets\n"
          ]
        },
        {
          "output_type": "stream",
          "name": "stdout",
          "text": [
            "Epoch 2/30\n",
            "2/2 [==============================] - 7s 4s/step - loss: 0.1449 - val_loss: 0.1544\n",
            "\n",
            "Epoch 00002: val_loss did not improve from 0.15369\n",
            "Epoch 3/30\n",
            "2/2 [==============================] - 7s 4s/step - loss: 0.1438 - val_loss: 0.1612\n",
            "\n",
            "Epoch 00003: val_loss did not improve from 0.15369\n",
            "Epoch 4/30\n",
            "2/2 [==============================] - 7s 4s/step - loss: 0.1510 - val_loss: 0.1715\n",
            "\n",
            "Epoch 00004: val_loss did not improve from 0.15369\n",
            "Epoch 5/30\n",
            "2/2 [==============================] - 7s 4s/step - loss: 0.1546 - val_loss: 0.1635\n",
            "\n",
            "Epoch 00005: val_loss did not improve from 0.15369\n",
            "Epoch 6/30\n",
            "2/2 [==============================] - 7s 4s/step - loss: 0.1437 - val_loss: 0.1554\n",
            "\n",
            "Epoch 00006: val_loss did not improve from 0.15369\n",
            "Epoch 7/30\n",
            "2/2 [==============================] - 7s 4s/step - loss: 0.1349 - val_loss: 0.1647\n",
            "\n",
            "Epoch 00007: val_loss did not improve from 0.15369\n",
            "Epoch 8/30\n",
            "2/2 [==============================] - 7s 4s/step - loss: 0.1425 - val_loss: 0.1883\n",
            "\n",
            "Epoch 00008: val_loss did not improve from 0.15369\n",
            "Epoch 9/30\n",
            "2/2 [==============================] - 7s 4s/step - loss: 0.1535 - val_loss: 0.1705\n",
            "\n",
            "Epoch 00009: val_loss did not improve from 0.15369\n",
            "Epoch 10/30\n",
            "2/2 [==============================] - 7s 4s/step - loss: 0.1356 - val_loss: 0.1467\n",
            "\n",
            "Epoch 00010: val_loss improved from 0.15369 to 0.14671, saving model to mymodel\n"
          ]
        },
        {
          "output_type": "stream",
          "name": "stderr",
          "text": [
            "WARNING:absl:Found untraced functions such as lstm_cell_28_layer_call_fn, lstm_cell_28_layer_call_and_return_conditional_losses, lstm_cell_29_layer_call_fn, lstm_cell_29_layer_call_and_return_conditional_losses, lstm_cell_28_layer_call_fn while saving (showing 5 of 10). These functions will not be directly callable after loading.\n"
          ]
        },
        {
          "output_type": "stream",
          "name": "stdout",
          "text": [
            "INFO:tensorflow:Assets written to: mymodel/assets\n"
          ]
        },
        {
          "output_type": "stream",
          "name": "stderr",
          "text": [
            "INFO:tensorflow:Assets written to: mymodel/assets\n"
          ]
        },
        {
          "output_type": "stream",
          "name": "stdout",
          "text": [
            "Epoch 11/30\n",
            "2/2 [==============================] - 7s 4s/step - loss: 0.1153 - val_loss: 0.1343\n",
            "\n",
            "Epoch 00011: val_loss improved from 0.14671 to 0.13428, saving model to mymodel\n"
          ]
        },
        {
          "output_type": "stream",
          "name": "stderr",
          "text": [
            "WARNING:absl:Found untraced functions such as lstm_cell_28_layer_call_fn, lstm_cell_28_layer_call_and_return_conditional_losses, lstm_cell_29_layer_call_fn, lstm_cell_29_layer_call_and_return_conditional_losses, lstm_cell_28_layer_call_fn while saving (showing 5 of 10). These functions will not be directly callable after loading.\n"
          ]
        },
        {
          "output_type": "stream",
          "name": "stdout",
          "text": [
            "INFO:tensorflow:Assets written to: mymodel/assets\n"
          ]
        },
        {
          "output_type": "stream",
          "name": "stderr",
          "text": [
            "INFO:tensorflow:Assets written to: mymodel/assets\n"
          ]
        },
        {
          "output_type": "stream",
          "name": "stdout",
          "text": [
            "Epoch 12/30\n",
            "2/2 [==============================] - 7s 4s/step - loss: 0.1024 - val_loss: 0.1306\n",
            "\n",
            "Epoch 00012: val_loss improved from 0.13428 to 0.13063, saving model to mymodel\n"
          ]
        },
        {
          "output_type": "stream",
          "name": "stderr",
          "text": [
            "WARNING:absl:Found untraced functions such as lstm_cell_28_layer_call_fn, lstm_cell_28_layer_call_and_return_conditional_losses, lstm_cell_29_layer_call_fn, lstm_cell_29_layer_call_and_return_conditional_losses, lstm_cell_28_layer_call_fn while saving (showing 5 of 10). These functions will not be directly callable after loading.\n"
          ]
        },
        {
          "output_type": "stream",
          "name": "stdout",
          "text": [
            "INFO:tensorflow:Assets written to: mymodel/assets\n"
          ]
        },
        {
          "output_type": "stream",
          "name": "stderr",
          "text": [
            "INFO:tensorflow:Assets written to: mymodel/assets\n"
          ]
        },
        {
          "output_type": "stream",
          "name": "stdout",
          "text": [
            "Epoch 13/30\n",
            "2/2 [==============================] - 7s 4s/step - loss: 0.0972 - val_loss: 0.1286\n",
            "\n",
            "Epoch 00013: val_loss improved from 0.13063 to 0.12860, saving model to mymodel\n"
          ]
        },
        {
          "output_type": "stream",
          "name": "stderr",
          "text": [
            "WARNING:absl:Found untraced functions such as lstm_cell_28_layer_call_fn, lstm_cell_28_layer_call_and_return_conditional_losses, lstm_cell_29_layer_call_fn, lstm_cell_29_layer_call_and_return_conditional_losses, lstm_cell_28_layer_call_fn while saving (showing 5 of 10). These functions will not be directly callable after loading.\n"
          ]
        },
        {
          "output_type": "stream",
          "name": "stdout",
          "text": [
            "INFO:tensorflow:Assets written to: mymodel/assets\n"
          ]
        },
        {
          "output_type": "stream",
          "name": "stderr",
          "text": [
            "INFO:tensorflow:Assets written to: mymodel/assets\n"
          ]
        },
        {
          "output_type": "stream",
          "name": "stdout",
          "text": [
            "Epoch 14/30\n",
            "2/2 [==============================] - 7s 4s/step - loss: 0.0935 - val_loss: 0.1275\n",
            "\n",
            "Epoch 00014: val_loss improved from 0.12860 to 0.12755, saving model to mymodel\n"
          ]
        },
        {
          "output_type": "stream",
          "name": "stderr",
          "text": [
            "WARNING:absl:Found untraced functions such as lstm_cell_28_layer_call_fn, lstm_cell_28_layer_call_and_return_conditional_losses, lstm_cell_29_layer_call_fn, lstm_cell_29_layer_call_and_return_conditional_losses, lstm_cell_28_layer_call_fn while saving (showing 5 of 10). These functions will not be directly callable after loading.\n"
          ]
        },
        {
          "output_type": "stream",
          "name": "stdout",
          "text": [
            "INFO:tensorflow:Assets written to: mymodel/assets\n"
          ]
        },
        {
          "output_type": "stream",
          "name": "stderr",
          "text": [
            "INFO:tensorflow:Assets written to: mymodel/assets\n"
          ]
        },
        {
          "output_type": "stream",
          "name": "stdout",
          "text": [
            "Epoch 15/30\n",
            "2/2 [==============================] - 7s 4s/step - loss: 0.0901 - val_loss: 0.1288\n",
            "\n",
            "Epoch 00015: val_loss did not improve from 0.12755\n",
            "Epoch 16/30\n",
            "2/2 [==============================] - 7s 4s/step - loss: 0.0899 - val_loss: 0.1390\n",
            "\n",
            "Epoch 00016: val_loss did not improve from 0.12755\n",
            "Epoch 17/30\n",
            "2/2 [==============================] - 7s 4s/step - loss: 0.0982 - val_loss: 0.1682\n",
            "\n",
            "Epoch 00017: val_loss did not improve from 0.12755\n",
            "Epoch 18/30\n",
            "2/2 [==============================] - 7s 4s/step - loss: 0.1328 - val_loss: 0.1780\n",
            "\n",
            "Epoch 00018: val_loss did not improve from 0.12755\n",
            "Epoch 19/30\n",
            "2/2 [==============================] - 7s 4s/step - loss: 0.1216 - val_loss: 0.1402\n",
            "\n",
            "Epoch 00019: val_loss did not improve from 0.12755\n",
            "Epoch 20/30\n",
            "2/2 [==============================] - 7s 4s/step - loss: 0.0864 - val_loss: 0.1254\n",
            "\n",
            "Epoch 00020: val_loss improved from 0.12755 to 0.12537, saving model to mymodel\n"
          ]
        },
        {
          "output_type": "stream",
          "name": "stderr",
          "text": [
            "WARNING:absl:Found untraced functions such as lstm_cell_28_layer_call_fn, lstm_cell_28_layer_call_and_return_conditional_losses, lstm_cell_29_layer_call_fn, lstm_cell_29_layer_call_and_return_conditional_losses, lstm_cell_28_layer_call_fn while saving (showing 5 of 10). These functions will not be directly callable after loading.\n"
          ]
        },
        {
          "output_type": "stream",
          "name": "stdout",
          "text": [
            "INFO:tensorflow:Assets written to: mymodel/assets\n"
          ]
        },
        {
          "output_type": "stream",
          "name": "stderr",
          "text": [
            "INFO:tensorflow:Assets written to: mymodel/assets\n"
          ]
        },
        {
          "output_type": "stream",
          "name": "stdout",
          "text": [
            "Epoch 21/30\n",
            "2/2 [==============================] - 7s 4s/step - loss: 0.0733 - val_loss: 0.1224\n",
            "\n",
            "Epoch 00021: val_loss improved from 0.12537 to 0.12241, saving model to mymodel\n"
          ]
        },
        {
          "output_type": "stream",
          "name": "stderr",
          "text": [
            "WARNING:absl:Found untraced functions such as lstm_cell_28_layer_call_fn, lstm_cell_28_layer_call_and_return_conditional_losses, lstm_cell_29_layer_call_fn, lstm_cell_29_layer_call_and_return_conditional_losses, lstm_cell_28_layer_call_fn while saving (showing 5 of 10). These functions will not be directly callable after loading.\n"
          ]
        },
        {
          "output_type": "stream",
          "name": "stdout",
          "text": [
            "INFO:tensorflow:Assets written to: mymodel/assets\n"
          ]
        },
        {
          "output_type": "stream",
          "name": "stderr",
          "text": [
            "INFO:tensorflow:Assets written to: mymodel/assets\n"
          ]
        },
        {
          "output_type": "stream",
          "name": "stdout",
          "text": [
            "Epoch 22/30\n",
            "2/2 [==============================] - 7s 4s/step - loss: 0.0680 - val_loss: 0.1215\n",
            "\n",
            "Epoch 00022: val_loss improved from 0.12241 to 0.12145, saving model to mymodel\n"
          ]
        },
        {
          "output_type": "stream",
          "name": "stderr",
          "text": [
            "WARNING:absl:Found untraced functions such as lstm_cell_28_layer_call_fn, lstm_cell_28_layer_call_and_return_conditional_losses, lstm_cell_29_layer_call_fn, lstm_cell_29_layer_call_and_return_conditional_losses, lstm_cell_28_layer_call_fn while saving (showing 5 of 10). These functions will not be directly callable after loading.\n"
          ]
        },
        {
          "output_type": "stream",
          "name": "stdout",
          "text": [
            "INFO:tensorflow:Assets written to: mymodel/assets\n"
          ]
        },
        {
          "output_type": "stream",
          "name": "stderr",
          "text": [
            "INFO:tensorflow:Assets written to: mymodel/assets\n"
          ]
        },
        {
          "output_type": "stream",
          "name": "stdout",
          "text": [
            "Epoch 23/30\n",
            "2/2 [==============================] - 7s 4s/step - loss: 0.0652 - val_loss: 0.1206\n",
            "\n",
            "Epoch 00023: val_loss improved from 0.12145 to 0.12055, saving model to mymodel\n"
          ]
        },
        {
          "output_type": "stream",
          "name": "stderr",
          "text": [
            "WARNING:absl:Found untraced functions such as lstm_cell_28_layer_call_fn, lstm_cell_28_layer_call_and_return_conditional_losses, lstm_cell_29_layer_call_fn, lstm_cell_29_layer_call_and_return_conditional_losses, lstm_cell_28_layer_call_fn while saving (showing 5 of 10). These functions will not be directly callable after loading.\n"
          ]
        },
        {
          "output_type": "stream",
          "name": "stdout",
          "text": [
            "INFO:tensorflow:Assets written to: mymodel/assets\n"
          ]
        },
        {
          "output_type": "stream",
          "name": "stderr",
          "text": [
            "INFO:tensorflow:Assets written to: mymodel/assets\n"
          ]
        },
        {
          "output_type": "stream",
          "name": "stdout",
          "text": [
            "Epoch 24/30\n",
            "2/2 [==============================] - 7s 4s/step - loss: 0.0626 - val_loss: 0.1214\n",
            "\n",
            "Epoch 00024: val_loss did not improve from 0.12055\n",
            "Epoch 25/30\n",
            "2/2 [==============================] - 7s 4s/step - loss: 0.0621 - val_loss: 0.1243\n",
            "\n",
            "Epoch 00025: val_loss did not improve from 0.12055\n",
            "Epoch 26/30\n",
            "2/2 [==============================] - 7s 4s/step - loss: 0.0643 - val_loss: 0.1377\n",
            "\n",
            "Epoch 00026: val_loss did not improve from 0.12055\n",
            "Epoch 27/30\n",
            "2/2 [==============================] - 7s 4s/step - loss: 0.0807 - val_loss: 0.1841\n",
            "\n",
            "Epoch 00027: val_loss did not improve from 0.12055\n",
            "Epoch 28/30\n",
            "2/2 [==============================] - 7s 4s/step - loss: 0.1099 - val_loss: 0.1703\n",
            "\n",
            "Epoch 00028: val_loss did not improve from 0.12055\n",
            "Epoch 29/30\n",
            "2/2 [==============================] - 7s 4s/step - loss: 0.0890 - val_loss: 0.1280\n",
            "\n",
            "Epoch 00029: val_loss did not improve from 0.12055\n",
            "Epoch 30/30\n",
            "2/2 [==============================] - 7s 4s/step - loss: 0.0557 - val_loss: 0.1222\n",
            "\n",
            "Epoch 00030: val_loss did not improve from 0.12055\n"
          ]
        }
      ]
    },
    {
      "cell_type": "code",
      "metadata": {
        "colab": {
          "base_uri": "https://localhost:8080/",
          "height": 265
        },
        "id": "3e6xvNfxzWg5",
        "outputId": "85fa33bf-8dab-499e-ff21-ffbd463aa337"
      },
      "source": [
        "plt.plot(history.history['loss'])\n",
        "plt.plot(history.history['val_loss'])\n",
        "plt.legend(['train','validation'])\n",
        "plt.show()"
      ],
      "execution_count": null,
      "outputs": [
        {
          "output_type": "display_data",
          "data": {
            "image/png": "[encoded data removed]",
            "text/plain": [
              "<Figure size 432x288 with 1 Axes>"
            ]
          },
          "metadata": {
            "needs_background": "light"
          }
        }
      ]
    },
    {
      "cell_type": "markdown",
      "metadata": {
        "id": "PIoy1strz5W1"
      },
      "source": [
        "Load the model to make predictions"
      ]
    },
    {
      "cell_type": "code",
      "metadata": {
        "id": "-szYFneqz4if"
      },
      "source": [
        "import numpy as np\n",
        "model = load_model('mymodel')\n",
        "#preds = model.predict_classes(testX.reshape((testX.shape[0],testX.shape[1])))\n",
        "preds = model.predict(testX.reshape((testX.shape[0],testX.shape[1])))\n",
        "classes_x=np.argmax(preds,axis=1)\n",
        "\n",
        "\n",
        "#yhat_classes = model.predict_classes(X_test)\n",
        "\n",
        " #predict_x=model.predict(X_test) \n",
        "#classes_x=np.argmax(predict_x,axis=1)"
      ],
      "execution_count": null,
      "outputs": []
    },
    {
      "cell_type": "markdown",
      "metadata": {
        "id": "EnzESiRr6cdX"
      },
      "source": [
        ""
      ]
    },
    {
      "cell_type": "code",
      "metadata": {
        "id": "-xpY9EcC6dJK"
      },
      "source": [
        "preds = model.predict(testX.reshape((testX.shape[0],testX.shape[1])))"
      ],
      "execution_count": null,
      "outputs": []
    },
    {
      "cell_type": "code",
      "metadata": {
        "id": "kYpC-wG73PfA"
      },
      "source": [
        "def get_word(n,tokenizer):\n",
        "  for word,index in tokenizer.word_index.items():\n",
        "    if index == n:\n",
        "      return word\n",
        "  return None"
      ],
      "execution_count": null,
      "outputs": []
    },
    {
      "cell_type": "code",
      "metadata": {
        "id": "WLP3K3cTz12w"
      },
      "source": [
        "# generate target given source sequence\n",
        "def predict_sequence(model, tokenizer, source):\n",
        "    prediction = model.predict(source, verbose=0)[0]\n",
        "    integers = [argmax(vector) for vector in prediction]\n",
        "    temp = list()\n",
        "    for i in integers:\n",
        "   \t t = word_for_id(i, tokenizer)\n",
        "   \t if t is None:\n",
        "   \t\t break\n",
        "   \t temp.append(word)\n",
        "    return ' '.join(temp)\n"
      ],
      "execution_count": null,
      "outputs": []
    },
    {
      "cell_type": "code",
      "metadata": {
        "id": "fs0qD8bh7cdy"
      },
      "source": [
        "pred_df = pd.DataFrame({'actual':test[:,0],'predicted': predict_sequence})\n"
      ],
      "execution_count": null,
      "outputs": []
    },
    {
      "cell_type": "code",
      "metadata": {
        "id": "NSXGu8gi46BY"
      },
      "source": [
        "pd.set_option('display.max_colwidth',200)\n"
      ],
      "execution_count": null,
      "outputs": []
    },
    {
      "cell_type": "code",
      "metadata": {
        "colab": {
          "base_uri": "https://localhost:8080/",
          "height": 511
        },
        "id": "Ai0gBoqj8A5J",
        "outputId": "6f821b7e-37f6-43b5-e82c-6b70d19eac61"
      },
      "source": [
        "pred_df.head(15)"
      ],
      "execution_count": null,
      "outputs": [
        {
          "output_type": "execute_result",
          "data": {
            "text/html": [
              "<div>\n",
              "<style scoped>\n",
              "    .dataframe tbody tr th:only-of-type {\n",
              "        vertical-align: middle;\n",
              "    }\n",
              "\n",
              "    .dataframe tbody tr th {\n",
              "        vertical-align: top;\n",
              "    }\n",
              "\n",
              "    .dataframe thead th {\n",
              "        text-align: right;\n",
              "    }\n",
              "</style>\n",
              "<table border=\"1\" class=\"dataframe\">\n",
              "  <thead>\n",
              "    <tr style=\"text-align: right;\">\n",
              "      <th></th>\n",
              "      <th>actual</th>\n",
              "      <th>predicted</th>\n",
              "    </tr>\n",
              "  </thead>\n",
              "  <tbody>\n",
              "    <tr>\n",
              "      <th>0</th>\n",
              "      <td>Nobody asked.</td>\n",
              "      <td>&lt;function predict_sequence at 0x7f4196af84d0&gt;</td>\n",
              "    </tr>\n",
              "    <tr>\n",
              "      <th>1</th>\n",
              "      <td>Check that.</td>\n",
              "      <td>&lt;function predict_sequence at 0x7f4196af84d0&gt;</td>\n",
              "    </tr>\n",
              "    <tr>\n",
              "      <th>2</th>\n",
              "      <td>Get away!</td>\n",
              "      <td>&lt;function predict_sequence at 0x7f4196af84d0&gt;</td>\n",
              "    </tr>\n",
              "    <tr>\n",
              "      <th>3</th>\n",
              "      <td>I'm good.</td>\n",
              "      <td>&lt;function predict_sequence at 0x7f4196af84d0&gt;</td>\n",
              "    </tr>\n",
              "    <tr>\n",
              "      <th>4</th>\n",
              "      <td>Get away!</td>\n",
              "      <td>&lt;function predict_sequence at 0x7f4196af84d0&gt;</td>\n",
              "    </tr>\n",
              "    <tr>\n",
              "      <th>5</th>\n",
              "      <td>Tom shot me.</td>\n",
              "      <td>&lt;function predict_sequence at 0x7f4196af84d0&gt;</td>\n",
              "    </tr>\n",
              "    <tr>\n",
              "      <th>6</th>\n",
              "      <td>I made it.</td>\n",
              "      <td>&lt;function predict_sequence at 0x7f4196af84d0&gt;</td>\n",
              "    </tr>\n",
              "    <tr>\n",
              "      <th>7</th>\n",
              "      <td>He dumped me.</td>\n",
              "      <td>&lt;function predict_sequence at 0x7f4196af84d0&gt;</td>\n",
              "    </tr>\n",
              "    <tr>\n",
              "      <th>8</th>\n",
              "      <td>What a dump.</td>\n",
              "      <td>&lt;function predict_sequence at 0x7f4196af84d0&gt;</td>\n",
              "    </tr>\n",
              "    <tr>\n",
              "      <th>9</th>\n",
              "      <td>Is Tom drunk?</td>\n",
              "      <td>&lt;function predict_sequence at 0x7f4196af84d0&gt;</td>\n",
              "    </tr>\n",
              "    <tr>\n",
              "      <th>10</th>\n",
              "      <td>Tom was dead.</td>\n",
              "      <td>&lt;function predict_sequence at 0x7f4196af84d0&gt;</td>\n",
              "    </tr>\n",
              "    <tr>\n",
              "      <th>11</th>\n",
              "      <td>You decide.</td>\n",
              "      <td>&lt;function predict_sequence at 0x7f4196af84d0&gt;</td>\n",
              "    </tr>\n",
              "    <tr>\n",
              "      <th>12</th>\n",
              "      <td>I'm serious.</td>\n",
              "      <td>&lt;function predict_sequence at 0x7f4196af84d0&gt;</td>\n",
              "    </tr>\n",
              "    <tr>\n",
              "      <th>13</th>\n",
              "      <td>Let's go in.</td>\n",
              "      <td>&lt;function predict_sequence at 0x7f4196af84d0&gt;</td>\n",
              "    </tr>\n",
              "    <tr>\n",
              "      <th>14</th>\n",
              "      <td>Get my rifle.</td>\n",
              "      <td>&lt;function predict_sequence at 0x7f4196af84d0&gt;</td>\n",
              "    </tr>\n",
              "  </tbody>\n",
              "</table>\n",
              "</div>"
            ],
            "text/plain": [
              "           actual                                      predicted\n",
              "0   Nobody asked.  <function predict_sequence at 0x7f4196af84d0>\n",
              "1     Check that.  <function predict_sequence at 0x7f4196af84d0>\n",
              "2       Get away!  <function predict_sequence at 0x7f4196af84d0>\n",
              "3       I'm good.  <function predict_sequence at 0x7f4196af84d0>\n",
              "4       Get away!  <function predict_sequence at 0x7f4196af84d0>\n",
              "5    Tom shot me.  <function predict_sequence at 0x7f4196af84d0>\n",
              "6      I made it.  <function predict_sequence at 0x7f4196af84d0>\n",
              "7   He dumped me.  <function predict_sequence at 0x7f4196af84d0>\n",
              "8    What a dump.  <function predict_sequence at 0x7f4196af84d0>\n",
              "9   Is Tom drunk?  <function predict_sequence at 0x7f4196af84d0>\n",
              "10  Tom was dead.  <function predict_sequence at 0x7f4196af84d0>\n",
              "11    You decide.  <function predict_sequence at 0x7f4196af84d0>\n",
              "12   I'm serious.  <function predict_sequence at 0x7f4196af84d0>\n",
              "13   Let's go in.  <function predict_sequence at 0x7f4196af84d0>\n",
              "14  Get my rifle.  <function predict_sequence at 0x7f4196af84d0>"
            ]
          },
          "metadata": {},
          "execution_count": 176
        }
      ]
    },
    {
      "cell_type": "code",
      "metadata": {
        "id": "Y18_Aa1fk403"
      },
      "source": [
        "# evaluate the skill of the model\n",
        "def evaluate_model(model, tokenizer, sources, raw_dataset):\n",
        "    actual, predicted = list(), list()\n",
        "    for i, source in enumerate(sources):\n",
        "   \t # translate encoded source text\n",
        "   \t source = source.reshape((1, source.shape[0]))\n",
        "   \t translation = predict_sequence(model, eng_tokenizer, source)\n",
        "   \t raw_target, raw_src = raw_dataset[i]\n",
        "   \t if i < 10:\n",
        "   \t\t print('src=[%s], target=[%s], predicted=[%s]' % (raw_src, raw_target, translation))\n",
        "   \t actual.append([raw_target.split()])\n",
        "   \t predicted.append(translation.split())\n",
        "    # calculate BLEU score\n",
        "    print('BLEU-1: %f' % corpus_bleu(actual, predicted, weights=(1.0, 0, 0, 0)))\n",
        "    print('BLEU-2: %f' % corpus_bleu(actual, predicted, weights=(0.5, 0.5, 0, 0)))\n",
        "    print('BLEU-3: %f' % corpus_bleu(actual, predicted, weights=(0.3, 0.3, 0.3, 0)))\n",
        "    print('BLEU-4: %f' % corpus_bleu(actual, predicted, weights=(0.25, 0.25, 0.25, 0.25)))"
      ],
      "execution_count": null,
      "outputs": []
    },
    {
      "cell_type": "code",
      "metadata": {
        "colab": {
          "base_uri": "https://localhost:8080/",
          "height": 511
        },
        "id": "mP1pbhQmcvu3",
        "outputId": "9d4bd70f-1ffc-4955-99be-24389fc7dd24"
      },
      "source": [
        "pred_df.tail(15)"
      ],
      "execution_count": null,
      "outputs": [
        {
          "output_type": "execute_result",
          "data": {
            "text/html": [
              "<div>\n",
              "<style scoped>\n",
              "    .dataframe tbody tr th:only-of-type {\n",
              "        vertical-align: middle;\n",
              "    }\n",
              "\n",
              "    .dataframe tbody tr th {\n",
              "        vertical-align: top;\n",
              "    }\n",
              "\n",
              "    .dataframe thead th {\n",
              "        text-align: right;\n",
              "    }\n",
              "</style>\n",
              "<table border=\"1\" class=\"dataframe\">\n",
              "  <thead>\n",
              "    <tr style=\"text-align: right;\">\n",
              "      <th></th>\n",
              "      <th>actual</th>\n",
              "      <th>predicted</th>\n",
              "    </tr>\n",
              "  </thead>\n",
              "  <tbody>\n",
              "    <tr>\n",
              "      <th>985</th>\n",
              "      <td>Help me.</td>\n",
              "      <td>&lt;function predict_sequence at 0x7f418c625320&gt;</td>\n",
              "    </tr>\n",
              "    <tr>\n",
              "      <th>986</th>\n",
              "      <td>I live here.</td>\n",
              "      <td>&lt;function predict_sequence at 0x7f418c625320&gt;</td>\n",
              "    </tr>\n",
              "    <tr>\n",
              "      <th>987</th>\n",
              "      <td>I had doubts.</td>\n",
              "      <td>&lt;function predict_sequence at 0x7f418c625320&gt;</td>\n",
              "    </tr>\n",
              "    <tr>\n",
              "      <th>988</th>\n",
              "      <td>Let me do it.</td>\n",
              "      <td>&lt;function predict_sequence at 0x7f418c625320&gt;</td>\n",
              "    </tr>\n",
              "    <tr>\n",
              "      <th>989</th>\n",
              "      <td>Stop crying.</td>\n",
              "      <td>&lt;function predict_sequence at 0x7f418c625320&gt;</td>\n",
              "    </tr>\n",
              "    <tr>\n",
              "      <th>990</th>\n",
              "      <td>Keep looking.</td>\n",
              "      <td>&lt;function predict_sequence at 0x7f418c625320&gt;</td>\n",
              "    </tr>\n",
              "    <tr>\n",
              "      <th>991</th>\n",
              "      <td>I disagreed.</td>\n",
              "      <td>&lt;function predict_sequence at 0x7f418c625320&gt;</td>\n",
              "    </tr>\n",
              "    <tr>\n",
              "      <th>992</th>\n",
              "      <td>I'm finicky.</td>\n",
              "      <td>&lt;function predict_sequence at 0x7f418c625320&gt;</td>\n",
              "    </tr>\n",
              "    <tr>\n",
              "      <th>993</th>\n",
              "      <td>Who's next?</td>\n",
              "      <td>&lt;function predict_sequence at 0x7f418c625320&gt;</td>\n",
              "    </tr>\n",
              "    <tr>\n",
              "      <th>994</th>\n",
              "      <td>Tom was nice.</td>\n",
              "      <td>&lt;function predict_sequence at 0x7f418c625320&gt;</td>\n",
              "    </tr>\n",
              "    <tr>\n",
              "      <th>995</th>\n",
              "      <td>Come alone.</td>\n",
              "      <td>&lt;function predict_sequence at 0x7f418c625320&gt;</td>\n",
              "    </tr>\n",
              "    <tr>\n",
              "      <th>996</th>\n",
              "      <td>I'm fat, too.</td>\n",
              "      <td>&lt;function predict_sequence at 0x7f418c625320&gt;</td>\n",
              "    </tr>\n",
              "    <tr>\n",
              "      <th>997</th>\n",
              "      <td>Tom was shot.</td>\n",
              "      <td>&lt;function predict_sequence at 0x7f418c625320&gt;</td>\n",
              "    </tr>\n",
              "    <tr>\n",
              "      <th>998</th>\n",
              "      <td>I'm on duty.</td>\n",
              "      <td>&lt;function predict_sequence at 0x7f418c625320&gt;</td>\n",
              "    </tr>\n",
              "    <tr>\n",
              "      <th>999</th>\n",
              "      <td>Stay home.</td>\n",
              "      <td>&lt;function predict_sequence at 0x7f418c625320&gt;</td>\n",
              "    </tr>\n",
              "  </tbody>\n",
              "</table>\n",
              "</div>"
            ],
            "text/plain": [
              "            actual                                      predicted\n",
              "985       Help me.  <function predict_sequence at 0x7f418c625320>\n",
              "986   I live here.  <function predict_sequence at 0x7f418c625320>\n",
              "987  I had doubts.  <function predict_sequence at 0x7f418c625320>\n",
              "988  Let me do it.  <function predict_sequence at 0x7f418c625320>\n",
              "989   Stop crying.  <function predict_sequence at 0x7f418c625320>\n",
              "990  Keep looking.  <function predict_sequence at 0x7f418c625320>\n",
              "991   I disagreed.  <function predict_sequence at 0x7f418c625320>\n",
              "992   I'm finicky.  <function predict_sequence at 0x7f418c625320>\n",
              "993    Who's next?  <function predict_sequence at 0x7f418c625320>\n",
              "994  Tom was nice.  <function predict_sequence at 0x7f418c625320>\n",
              "995    Come alone.  <function predict_sequence at 0x7f418c625320>\n",
              "996  I'm fat, too.  <function predict_sequence at 0x7f418c625320>\n",
              "997  Tom was shot.  <function predict_sequence at 0x7f418c625320>\n",
              "998   I'm on duty.  <function predict_sequence at 0x7f418c625320>\n",
              "999     Stay home.  <function predict_sequence at 0x7f418c625320>"
            ]
          },
          "metadata": {},
          "execution_count": 156
        }
      ]
    },
    {
      "cell_type": "code",
      "metadata": {
        "colab": {
          "base_uri": "https://localhost:8080/",
          "height": 511
        },
        "id": "Vk3iwu6M8Kpq",
        "outputId": "22029d01-9e44-461b-8eb4-0c3ddfbb9818"
      },
      "source": [
        "pred_df.head(15)"
      ],
      "execution_count": null,
      "outputs": [
        {
          "output_type": "execute_result",
          "data": {
            "text/html": [
              "<div>\n",
              "<style scoped>\n",
              "    .dataframe tbody tr th:only-of-type {\n",
              "        vertical-align: middle;\n",
              "    }\n",
              "\n",
              "    .dataframe tbody tr th {\n",
              "        vertical-align: top;\n",
              "    }\n",
              "\n",
              "    .dataframe thead th {\n",
              "        text-align: right;\n",
              "    }\n",
              "</style>\n",
              "<table border=\"1\" class=\"dataframe\">\n",
              "  <thead>\n",
              "    <tr style=\"text-align: right;\">\n",
              "      <th></th>\n",
              "      <th>actual</th>\n",
              "      <th>predicted</th>\n",
              "    </tr>\n",
              "  </thead>\n",
              "  <tbody>\n",
              "    <tr>\n",
              "      <th>0</th>\n",
              "      <td>Nobody asked.</td>\n",
              "      <td>&lt;function predict_sequence at 0x7f4196af84d0&gt;</td>\n",
              "    </tr>\n",
              "    <tr>\n",
              "      <th>1</th>\n",
              "      <td>Check that.</td>\n",
              "      <td>&lt;function predict_sequence at 0x7f4196af84d0&gt;</td>\n",
              "    </tr>\n",
              "    <tr>\n",
              "      <th>2</th>\n",
              "      <td>Get away!</td>\n",
              "      <td>&lt;function predict_sequence at 0x7f4196af84d0&gt;</td>\n",
              "    </tr>\n",
              "    <tr>\n",
              "      <th>3</th>\n",
              "      <td>I'm good.</td>\n",
              "      <td>&lt;function predict_sequence at 0x7f4196af84d0&gt;</td>\n",
              "    </tr>\n",
              "    <tr>\n",
              "      <th>4</th>\n",
              "      <td>Get away!</td>\n",
              "      <td>&lt;function predict_sequence at 0x7f4196af84d0&gt;</td>\n",
              "    </tr>\n",
              "    <tr>\n",
              "      <th>5</th>\n",
              "      <td>Tom shot me.</td>\n",
              "      <td>&lt;function predict_sequence at 0x7f4196af84d0&gt;</td>\n",
              "    </tr>\n",
              "    <tr>\n",
              "      <th>6</th>\n",
              "      <td>I made it.</td>\n",
              "      <td>&lt;function predict_sequence at 0x7f4196af84d0&gt;</td>\n",
              "    </tr>\n",
              "    <tr>\n",
              "      <th>7</th>\n",
              "      <td>He dumped me.</td>\n",
              "      <td>&lt;function predict_sequence at 0x7f4196af84d0&gt;</td>\n",
              "    </tr>\n",
              "    <tr>\n",
              "      <th>8</th>\n",
              "      <td>What a dump.</td>\n",
              "      <td>&lt;function predict_sequence at 0x7f4196af84d0&gt;</td>\n",
              "    </tr>\n",
              "    <tr>\n",
              "      <th>9</th>\n",
              "      <td>Is Tom drunk?</td>\n",
              "      <td>&lt;function predict_sequence at 0x7f4196af84d0&gt;</td>\n",
              "    </tr>\n",
              "    <tr>\n",
              "      <th>10</th>\n",
              "      <td>Tom was dead.</td>\n",
              "      <td>&lt;function predict_sequence at 0x7f4196af84d0&gt;</td>\n",
              "    </tr>\n",
              "    <tr>\n",
              "      <th>11</th>\n",
              "      <td>You decide.</td>\n",
              "      <td>&lt;function predict_sequence at 0x7f4196af84d0&gt;</td>\n",
              "    </tr>\n",
              "    <tr>\n",
              "      <th>12</th>\n",
              "      <td>I'm serious.</td>\n",
              "      <td>&lt;function predict_sequence at 0x7f4196af84d0&gt;</td>\n",
              "    </tr>\n",
              "    <tr>\n",
              "      <th>13</th>\n",
              "      <td>Let's go in.</td>\n",
              "      <td>&lt;function predict_sequence at 0x7f4196af84d0&gt;</td>\n",
              "    </tr>\n",
              "    <tr>\n",
              "      <th>14</th>\n",
              "      <td>Get my rifle.</td>\n",
              "      <td>&lt;function predict_sequence at 0x7f4196af84d0&gt;</td>\n",
              "    </tr>\n",
              "  </tbody>\n",
              "</table>\n",
              "</div>"
            ],
            "text/plain": [
              "           actual                                      predicted\n",
              "0   Nobody asked.  <function predict_sequence at 0x7f4196af84d0>\n",
              "1     Check that.  <function predict_sequence at 0x7f4196af84d0>\n",
              "2       Get away!  <function predict_sequence at 0x7f4196af84d0>\n",
              "3       I'm good.  <function predict_sequence at 0x7f4196af84d0>\n",
              "4       Get away!  <function predict_sequence at 0x7f4196af84d0>\n",
              "5    Tom shot me.  <function predict_sequence at 0x7f4196af84d0>\n",
              "6      I made it.  <function predict_sequence at 0x7f4196af84d0>\n",
              "7   He dumped me.  <function predict_sequence at 0x7f4196af84d0>\n",
              "8    What a dump.  <function predict_sequence at 0x7f4196af84d0>\n",
              "9   Is Tom drunk?  <function predict_sequence at 0x7f4196af84d0>\n",
              "10  Tom was dead.  <function predict_sequence at 0x7f4196af84d0>\n",
              "11    You decide.  <function predict_sequence at 0x7f4196af84d0>\n",
              "12   I'm serious.  <function predict_sequence at 0x7f4196af84d0>\n",
              "13   Let's go in.  <function predict_sequence at 0x7f4196af84d0>\n",
              "14  Get my rifle.  <function predict_sequence at 0x7f4196af84d0>"
            ]
          },
          "metadata": {},
          "execution_count": 178
        }
      ]
    }
  ]
}